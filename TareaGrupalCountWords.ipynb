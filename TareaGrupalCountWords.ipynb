{
 "cells": [
  {
   "cell_type": "code",
   "execution_count": 1,
   "metadata": {},
   "outputs": [],
   "source": [
    "import numpy as np\n",
    "import pandas as pd\n",
    "from datetime import datetime\n",
    "from numpy import genfromtxt\n",
    "from difflib import SequenceMatcher\n",
    "import time"
   ]
  },
  {
   "cell_type": "code",
   "execution_count": 2,
   "metadata": {},
   "outputs": [],
   "source": [
    "file_datapath = \"Publicaciones.csv\"\n",
    "file_datapath_result = \"Publicaciones_result.xlsx\""
   ]
  },
  {
   "cell_type": "code",
   "execution_count": 9,
   "metadata": {},
   "outputs": [
    {
     "name": "stdout",
     "output_type": "stream",
     "text": [
      "Wed Jan 15 11:27:53 2020\n",
      "Publicacion: 1/5891 Similares: 0\n",
      "Publicacion: 2/5891 Similares: 2\n",
      "Publicacion: 3/5891 Similares: 0\n",
      "Publicacion: 5/5891 Similares: 2\n",
      "Publicacion: 7/5891 Similares: 3\n",
      "Publicacion: 8/5891 Similares: 3\n",
      "Publicacion: 9/5891 Similares: 2\n",
      "Publicacion: 10/5891 Similares: 3\n",
      "Publicacion: 11/5891 Similares: 0\n",
      "Publicacion: 12/5891 Similares: 2\n",
      "Publicacion: 13/5891 Similares: 3\n",
      "Publicacion: 14/5891 Similares: 2\n",
      "Publicacion: 15/5891 Similares: 2\n",
      "Publicacion: 18/5891 Similares: 0\n",
      "Publicacion: 19/5891 Similares: 2\n",
      "Publicacion: 20/5891 Similares: 2\n",
      "Publicacion: 21/5891 Similares: 2\n",
      "Publicacion: 23/5891 Similares: 0\n",
      "Publicacion: 24/5891 Similares: 2\n",
      "Publicacion: 25/5891 Similares: 2\n",
      "Publicacion: 26/5891 Similares: 2\n",
      "Publicacion: 27/5891 Similares: 1\n",
      "Publicacion: 29/5891 Similares: 1\n",
      "Publicacion: 30/5891 Similares: 0\n",
      "Publicacion: 31/5891 Similares: 1\n",
      "Publicacion: 32/5891 Similares: 1\n",
      "Publicacion: 34/5891 Similares: 0\n",
      "Publicacion: 35/5891 Similares: 0\n",
      "Publicacion: 37/5891 Similares: 0\n",
      "Publicacion: 38/5891 Similares: 0\n",
      "An exception occurred, row:38\n",
      "Wed Jan 15 11:27:54 2020\n"
     ]
    }
   ],
   "source": [
    "column_cedula = 0\n",
    "column_nombre_persona = 1\n",
    "column_id_personal = 2\n",
    "column_id_publicacion = 3\n",
    "column_publicacion = 4\n",
    "column_fecha = 5\n",
    "\n",
    "start = time.ctime(time.time())\n",
    "print(start)\n",
    "try:\n",
    "    df = pd.read_csv(file_datapath,encoding='utf-8')    \n",
    "    items = np.array(df[0:30]) \n",
    "    #items = np.array(df) \n",
    "    result = pd.DataFrame(items)\n",
    "    publicaciones_similares = []\n",
    "    cant_publicaciones_similares = []\n",
    "    for publicacion in items:           \n",
    "        similares = []\n",
    "        for publicacion_busqueda in items:\n",
    "            s = SequenceMatcher(None, str(publicacion[column_publicacion]), str(publicacion_busqueda[column_publicacion]))   \n",
    "            if(s.ratio() > 0.8) and (publicacion[column_id_personal] != publicacion_busqueda[column_id_personal]):                \n",
    "                similares.append('['+ str(publicacion_busqueda[column_id_publicacion]) +'-'+ str(publicacion_busqueda[column_fecha]) + ']'+ str(publicacion_busqueda[column_cedula]) +' | ' + str(publicacion_busqueda[column_nombre_persona])) \n",
    "        publicaciones_similares.append(str(similares))\n",
    "        cant_publicaciones_similares.append(len(similares))\n",
    "        print(\"Publicacion: \" + str(publicacion[column_id_publicacion]) + \"/\" + str(len(df)) + \" Similares: \" + str(len(similares)))\n",
    "    result['coincidencia'] = similary\n",
    "    result['coincidencia_cant'] = cant_publicaciones_similares\n",
    "    print(\"Finsih\")\n",
    "except:\n",
    "  print(\"An exception occurred, row:\" + str(publicacion[column_id_publicacion]))\n",
    "finish = time.ctime(time.time())\n",
    "print(finish)"
   ]
  },
  {
   "cell_type": "code",
   "execution_count": 4,
   "metadata": {},
   "outputs": [
    {
     "name": "stdout",
     "output_type": "stream",
     "text": [
      "saved\n"
     ]
    }
   ],
   "source": [
    "result.to_excel(file_datapath_result)\n",
    "print(\"saved\")"
   ]
  }
 ],
 "metadata": {
  "kernelspec": {
   "display_name": "Python 3",
   "language": "python",
   "name": "python3"
  },
  "language_info": {
   "codemirror_mode": {
    "name": "ipython",
    "version": 3
   },
   "file_extension": ".py",
   "mimetype": "text/x-python",
   "name": "python",
   "nbconvert_exporter": "python",
   "pygments_lexer": "ipython3",
   "version": "3.7.4"
  }
 },
 "nbformat": 4,
 "nbformat_minor": 2
}
