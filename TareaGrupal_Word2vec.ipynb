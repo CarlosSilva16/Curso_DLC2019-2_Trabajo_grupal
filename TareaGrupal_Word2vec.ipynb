{
 "cells": [
  {
   "cell_type": "markdown",
   "metadata": {},
   "source": [
    "# DEEP LEARNING\n",
    "\n",
    "## Objetivo:\n",
    "\n",
    "Aplique los temas vistos en los seminarios de Deep Learning en sus proyectos de investigación y familiarícese con librerías como word2vec y keras.\n",
    "\n",
    "## Trabajo Grupal\n",
    "### Integrantes\n",
    "* Carlos Alfredo Silva Villafuerte"
   ]
  },
  {
   "cell_type": "markdown",
   "metadata": {},
   "source": [
    "Resumen de los datos usados:\n",
    "5891 publicaciones \n",
    "Model vector\n",
    "(3687, 300)\n",
    "\n",
    "## Librerias requeridas\n",
    "pip install Cython\n",
    "pip install word2vec unidecode nltk stop_words sklearn scipy matplotlib\t\n",
    "pip install numpy pandas"
   ]
  },
  {
   "cell_type": "markdown",
   "metadata": {},
   "source": [
    "\n",
    "\n",
    "# Training the word embeddings model, word2vec"
   ]
  },
  {
   "cell_type": "code",
   "execution_count": 1,
   "metadata": {},
   "outputs": [],
   "source": [
    "## use of some steps like tokenize, conversion of characters to lower-case, conversion of special characters á -> a, ñ->n\n",
    "## removal of punctuation and removal of stopwords (the, to, an, and, a, this)\n",
    "import numpy as np\n",
    "import pandas as pd"
   ]
  },
  {
   "cell_type": "code",
   "execution_count": 2,
   "metadata": {},
   "outputs": [
    {
     "name": "stderr",
     "output_type": "stream",
     "text": [
      "/srv/conda/envs/notebook/lib/python3.7/site-packages/sklearn/externals/joblib/__init__.py:15: FutureWarning: sklearn.externals.joblib is deprecated in 0.21 and will be removed in 0.23. Please import this functionality directly from joblib, which can be installed with: pip install joblib. If this warning is raised when loading pickled models, you may need to re-serialize those models with scikit-learn 0.21+.\n",
      "  warnings.warn(msg, category=FutureWarning)\n"
     ]
    }
   ],
   "source": [
    "import word2vec"
   ]
  },
  {
   "cell_type": "code",
   "execution_count": 3,
   "metadata": {},
   "outputs": [
    {
     "name": "stderr",
     "output_type": "stream",
     "text": [
      "[nltk_data] Downloading package stopwords to /home/jovyan/nltk_data...\n",
      "[nltk_data]   Package stopwords is already up-to-date!\n"
     ]
    },
    {
     "data": {
      "text/plain": [
       "True"
      ]
     },
     "execution_count": 3,
     "metadata": {},
     "output_type": "execute_result"
    }
   ],
   "source": [
    "from unidecode import unidecode\n",
    "from nltk.tokenize import TweetTokenizer \n",
    "from stop_words import get_stop_words\n",
    "import nltk\n",
    "from string import punctuation \n",
    "from nltk.corpus import stopwords\n",
    "nltk.download('stopwords')"
   ]
  },
  {
   "cell_type": "code",
   "execution_count": 4,
   "metadata": {},
   "outputs": [],
   "source": [
    "file_datapath = \"Publicaciones.csv\"\n",
    "file_datapathTxt = \"Publicaciones.txt\"\n",
    "file_datapathTxtWithoutNoise = \"Publicaciones_without_Noise.txt\"\n",
    "df = pd.read_csv(file_datapath, sep=',', comment='#' , error_bad_lines=True )"
   ]
  },
  {
   "cell_type": "code",
   "execution_count": 5,
   "metadata": {},
   "outputs": [],
   "source": [
    "tknzr = TweetTokenizer()\n",
    "stop_words = [unidecode(stopW) for stopW in stopwords.words('spanish')]\n",
    "\n",
    "non_words = list(punctuation)\n",
    "non_words.extend(['¿', '¡', 'q', 'd', 'x', 'xq', '...', '..']) #stopwords that are not present in the official punctuation/stopwords lists, then we added them \n",
    "stop_words = stop_words + non_words"
   ]
  },
  {
   "cell_type": "code",
   "execution_count": 6,
   "metadata": {},
   "outputs": [],
   "source": [
    "# For you to try. Make a list of sentences that would need to be preprocessed\n",
    "dirty_sentences = np.array(df['publicacion'])\n",
    "#Clean yor sentences and save them in another list\n",
    "clean_sentences=[] #list to put previous sentences once they are preprocessed\n",
    "for dirty_sent in dirty_sentences:\n",
    "    dirty_sent = str(dirty_sent)\n",
    "    tokens=[token.lower() for token in tknzr.tokenize(unidecode(dirty_sent)) \n",
    "                          if token.lower() not in stop_words]\n",
    "    processed_sentence = ' '.join(tokens) \n",
    "    clean_sentences.append(processed_sentence)"
   ]
  },
  {
   "cell_type": "markdown",
   "metadata": {},
   "source": [
    "## 1) Create a file only with the publications titles"
   ]
  },
  {
   "cell_type": "code",
   "execution_count": 7,
   "metadata": {},
   "outputs": [],
   "source": [
    "df['publicacion'].to_csv(file_datapathTxt, header=True, index=False, sep='\\t', mode='a')\n",
    "df_clean_sentences = pd.DataFrame(clean_sentences)\n",
    "df_clean_sentences.to_csv(file_datapathTxtWithoutNoise, header=True, index=False, sep='\\t', mode='a')"
   ]
  },
  {
   "cell_type": "markdown",
   "metadata": {},
   "source": [
    "## 2) Create a model"
   ]
  },
  {
   "cell_type": "code",
   "execution_count": 8,
   "metadata": {},
   "outputs": [
    {
     "name": "stdout",
     "output_type": "stream",
     "text": [
      "Starting training using file Publicaciones_without_Noise.txt\n",
      "Vocab size: 5517\n",
      "Words in train file: 160020\n",
      "Alpha: 0.000668  Progress: 99.00%  Words/thread/sec: 92.48k  "
     ]
    }
   ],
   "source": [
    "#train the model giving as input the training dataset (preprocesssed tweets in txt file) and the name of the file where we are going to save the model\n",
    "#in the parameters we have assigned values for size that represents the number of dimensions for the result vectors and window to consider in which 'context' the evaluated word is going to be (words before and after target)\n",
    "word2vec.word2vec(file_datapathTxtWithoutNoise, 'Publicaciones_model.bin', size=300, window= 5, verbose=True)"
   ]
  },
  {
   "cell_type": "code",
   "execution_count": 9,
   "metadata": {},
   "outputs": [],
   "source": [
    "model = word2vec.load('Publicaciones_model.bin') #load the trained model"
   ]
  },
  {
   "cell_type": "markdown",
   "metadata": {},
   "source": [
    "## Exploring the work of word embeddings"
   ]
  },
  {
   "cell_type": "code",
   "execution_count": 10,
   "metadata": {},
   "outputs": [
    {
     "name": "stdout",
     "output_type": "stream",
     "text": [
      "(5517, 300)\n"
     ]
    }
   ],
   "source": [
    "print(model.vectors.shape)   #verify the size of the vocabulary (number of words from which we extracted the vectors) and the dimensions of vector representation"
   ]
  },
  {
   "cell_type": "code",
   "execution_count": 11,
   "metadata": {},
   "outputs": [
    {
     "data": {
      "text/plain": [
       "[('laica', 0.9936653345818593),\n",
       " ('tecnica', 0.9910928831986134),\n",
       " ('veterinaria', 0.9906276995762466),\n",
       " ('2010-2015', 0.9903035300251652),\n",
       " ('2014-2015', 0.9901416683053516),\n",
       " ('egresado', 0.9894424078125088),\n",
       " ('matriculados', 0.9873805447827758),\n",
       " ('electronicos', 0.9859187547833076),\n",
       " ('impactos', 0.9858342181979424),\n",
       " ('posicionamiento', 0.9854370928980212)]"
      ]
     },
     "execution_count": 11,
     "metadata": {},
     "output_type": "execute_result"
    }
   ],
   "source": [
    "indexes, metrics = model.similar('universidad',10)  #target word and the number of desired results (similar words)\n",
    "model.generate_response(indexes, metrics).tolist() #sentence to print results: word, measure_of_similarity (being 1 the most similar)"
   ]
  },
  {
   "cell_type": "code",
   "execution_count": 12,
   "metadata": {},
   "outputs": [],
   "source": [
    "from sklearn.decomposition import PCA\n",
    "from matplotlib import pyplot"
   ]
  },
  {
   "cell_type": "code",
   "execution_count": 13,
   "metadata": {},
   "outputs": [
    {
     "data": {
      "text/plain": [
       "array(['educacion', 'estudiantes', 'evaluacion', 'portoviejo', 'social',\n",
       "       'gestion', 'estudio', 'formacion', 'analisis', 'venezuela'],\n",
       "      dtype='<U78')"
      ]
     },
     "execution_count": 13,
     "metadata": {},
     "output_type": "execute_result"
    }
   ],
   "source": [
    "model.vocab[10:20]  #model.vocab contains the list of words in the vocabulary model"
   ]
  },
  {
   "cell_type": "code",
   "execution_count": 14,
   "metadata": {},
   "outputs": [
    {
     "data": {
      "text/plain": [
       "array([ 0.08015626,  0.08850129, -0.07670335, -0.0656449 ,  0.02736655,\n",
       "        0.06049915,  0.01884124,  0.0042321 , -0.07216264,  0.04442634,\n",
       "       -0.0872393 ,  0.02502286, -0.0150461 , -0.0191682 , -0.06639965,\n",
       "       -0.03769165,  0.051653  ,  0.06058471,  0.05945717,  0.03198978,\n",
       "        0.03093557, -0.07615028, -0.08202022,  0.09952002,  0.07612278,\n",
       "        0.06188031, -0.01209433,  0.08041599, -0.00991258,  0.01471304,\n",
       "       -0.00298844, -0.05974134,  0.02627874, -0.02678292, -0.07660557,\n",
       "        0.09520542,  0.08769764, -0.02193052, -0.0045285 ,  0.01019676,\n",
       "       -0.07284711, -0.08024487,  0.09121166,  0.00126199, -0.05171411,\n",
       "       -0.06092083, -0.06160836,  0.03398207,  0.00403348,  0.02665458,\n",
       "       -0.08437919, -0.07625417, -0.00260343,  0.02290222,  0.0510602 ,\n",
       "       -0.06348148,  0.08169632,  0.01856318,  0.02242248, -0.01218294,\n",
       "        0.05980551, -0.04581362, -0.0420032 ,  0.04322241, -0.01508277,\n",
       "        0.02064103,  0.03613632, -0.0818766 , -0.03971145,  0.05834796,\n",
       "        0.08474587,  0.07874148, -0.06101556, -0.04220793, -0.01820567,\n",
       "        0.04008118, -0.0758661 ,  0.06003469,  0.05582704, -0.03202033,\n",
       "       -0.03107002, -0.04482358,  0.08468475,  0.07833813, -0.02362642,\n",
       "        0.08440669,  0.09652852,  0.03635327,  0.09978586, -0.06230199,\n",
       "       -0.03067278, -0.04220182, -0.05821657,  0.05636789,  0.03162615,\n",
       "        0.00851003, -0.04392827,  0.03051695,  0.06126613,  0.00387764,\n",
       "        0.04565166, -0.09917779,  0.08640815,  0.00961007, -0.036668  ,\n",
       "       -0.04171902, -0.01497888, -0.05877576, -0.08750208, -0.05681401,\n",
       "        0.08565035, -0.03544268, -0.05365751,  0.04640641, -0.03411958,\n",
       "        0.09525431, -0.03213339, -0.09189308,  0.05438476, -0.00148811,\n",
       "       -0.06986477,  0.01954099,  0.02887605, -0.00964063,  0.03653355,\n",
       "       -0.07925484,  0.01764342,  0.03637772, -0.06025775,  0.00284483,\n",
       "       -0.00121616, -0.04804425, -0.05672541, -0.09399538,  0.00045835,\n",
       "        0.00305872,  0.00019556, -0.07877816, -0.09936418, -0.09505264,\n",
       "       -0.08662204, -0.01095457,  0.02786157,  0.02371503, -0.06372899,\n",
       "        0.10008837, -0.0402798 , -0.02550565, -0.02812436,  0.09477151,\n",
       "       -0.07537109,  0.02325057, -0.0267432 ,  0.06383594,  0.00081281,\n",
       "        0.08550061, -0.0564565 , -0.0521694 , -0.0839514 , -0.07343073,\n",
       "       -0.06407122, -0.06237533,  0.04894568, -0.03738609,  0.05366974,\n",
       "        0.07389519,  0.02715266,  0.05908743,  0.04957514,  0.04687088,\n",
       "       -0.07110537, -0.06874945, -0.073226  , -0.00264315,  0.0827169 ,\n",
       "       -0.05480339, -0.06128446, -0.0840339 ,  0.06620409, -0.08368555,\n",
       "       -0.01159931,  0.04363187, -0.09248282, -0.08968689,  0.02889439,\n",
       "        0.07058285,  0.08539367,  0.04296573,  0.06332564, -0.06263201,\n",
       "       -0.07290211,  0.07959707, -0.05536869,  0.03511267,  0.01149542,\n",
       "        0.03585214, -0.02367531,  0.00398153, -0.03376512, -0.02255999,\n",
       "       -0.08878546, -0.06528433,  0.06979755,  0.02013379, -0.04731395,\n",
       "       -0.03187978,  0.04996016, -0.07074174, -0.04632391,  0.09480818,\n",
       "        0.08507588, -0.07928539,  0.01744175, -0.04505581,  0.00304956,\n",
       "        0.06021192,  0.09704798,  0.03978173,  0.08236245,  0.06301091,\n",
       "       -0.00463239,  0.08961355,  0.0507913 ,  0.09494875, -0.03415013,\n",
       "        0.09505264,  0.08668927, -0.02858576, -0.08850434,  0.09677603,\n",
       "        0.01796121, -0.04162735, -0.01437386, -0.01473137, -0.07716782,\n",
       "       -0.0286591 , -0.00888588, -0.09866443, -0.07040868, -0.02410005,\n",
       "       -0.01884735,  0.03584603,  0.0163356 , -0.01230517,  0.05899882,\n",
       "        0.02896467,  0.01096984,  0.07243459, -0.0225386 , -0.02856743,\n",
       "       -0.00828086, -0.05462005, -0.06007442,  0.00405487,  0.08687261,\n",
       "       -0.02737572, -0.00041557, -0.08281164,  0.07427104, -0.03044361,\n",
       "        0.05943883, -0.0482337 , -0.01792454,  0.00188535,  0.07255376,\n",
       "       -0.00172645,  0.08876713, -0.01487193,  0.0420582 , -0.00274093,\n",
       "       -0.0781334 ,  0.08512171,  0.02114522, -0.06066416,  0.06023942,\n",
       "       -0.08300108, -0.0871843 ,  0.06543711, -0.06872195, -0.05301888,\n",
       "        0.07064702,  0.06579156,  0.01371994,  0.09058525,  0.09725577,\n",
       "        0.08120435,  0.03534184, -0.08712012,  0.04583501, -0.09796774,\n",
       "       -0.02575927,  0.0302786 ,  0.01964183, -0.03053528,  0.05883382,\n",
       "       -0.09227809, -0.02825881, -0.02626957, -0.03316621,  0.0614953 ])"
      ]
     },
     "execution_count": 14,
     "metadata": {},
     "output_type": "execute_result"
    }
   ],
   "source": [
    "model['</s>']   #if we call the model specifying a given word, it is going to present the 300dim vector that belongs to that word"
   ]
  },
  {
   "cell_type": "code",
   "execution_count": 15,
   "metadata": {},
   "outputs": [
    {
     "data": {
      "text/plain": [
       "array([ 0.08015626,  0.08850129, -0.07670335, -0.0656449 ,  0.02736655,\n",
       "        0.06049915,  0.01884124,  0.0042321 , -0.07216264,  0.04442634,\n",
       "       -0.0872393 ,  0.02502286, -0.0150461 , -0.0191682 , -0.06639965,\n",
       "       -0.03769165,  0.051653  ,  0.06058471,  0.05945717,  0.03198978,\n",
       "        0.03093557, -0.07615028, -0.08202022,  0.09952002,  0.07612278,\n",
       "        0.06188031, -0.01209433,  0.08041599, -0.00991258,  0.01471304,\n",
       "       -0.00298844, -0.05974134,  0.02627874, -0.02678292, -0.07660557,\n",
       "        0.09520542,  0.08769764, -0.02193052, -0.0045285 ,  0.01019676,\n",
       "       -0.07284711, -0.08024487,  0.09121166,  0.00126199, -0.05171411,\n",
       "       -0.06092083, -0.06160836,  0.03398207,  0.00403348,  0.02665458,\n",
       "       -0.08437919, -0.07625417, -0.00260343,  0.02290222,  0.0510602 ,\n",
       "       -0.06348148,  0.08169632,  0.01856318,  0.02242248, -0.01218294,\n",
       "        0.05980551, -0.04581362, -0.0420032 ,  0.04322241, -0.01508277,\n",
       "        0.02064103,  0.03613632, -0.0818766 , -0.03971145,  0.05834796,\n",
       "        0.08474587,  0.07874148, -0.06101556, -0.04220793, -0.01820567,\n",
       "        0.04008118, -0.0758661 ,  0.06003469,  0.05582704, -0.03202033,\n",
       "       -0.03107002, -0.04482358,  0.08468475,  0.07833813, -0.02362642,\n",
       "        0.08440669,  0.09652852,  0.03635327,  0.09978586, -0.06230199,\n",
       "       -0.03067278, -0.04220182, -0.05821657,  0.05636789,  0.03162615,\n",
       "        0.00851003, -0.04392827,  0.03051695,  0.06126613,  0.00387764,\n",
       "        0.04565166, -0.09917779,  0.08640815,  0.00961007, -0.036668  ,\n",
       "       -0.04171902, -0.01497888, -0.05877576, -0.08750208, -0.05681401,\n",
       "        0.08565035, -0.03544268, -0.05365751,  0.04640641, -0.03411958,\n",
       "        0.09525431, -0.03213339, -0.09189308,  0.05438476, -0.00148811,\n",
       "       -0.06986477,  0.01954099,  0.02887605, -0.00964063,  0.03653355,\n",
       "       -0.07925484,  0.01764342,  0.03637772, -0.06025775,  0.00284483,\n",
       "       -0.00121616, -0.04804425, -0.05672541, -0.09399538,  0.00045835,\n",
       "        0.00305872,  0.00019556, -0.07877816, -0.09936418, -0.09505264,\n",
       "       -0.08662204, -0.01095457,  0.02786157,  0.02371503, -0.06372899,\n",
       "        0.10008837, -0.0402798 , -0.02550565, -0.02812436,  0.09477151,\n",
       "       -0.07537109,  0.02325057, -0.0267432 ,  0.06383594,  0.00081281,\n",
       "        0.08550061, -0.0564565 , -0.0521694 , -0.0839514 , -0.07343073,\n",
       "       -0.06407122, -0.06237533,  0.04894568, -0.03738609,  0.05366974,\n",
       "        0.07389519,  0.02715266,  0.05908743,  0.04957514,  0.04687088,\n",
       "       -0.07110537, -0.06874945, -0.073226  , -0.00264315,  0.0827169 ,\n",
       "       -0.05480339, -0.06128446, -0.0840339 ,  0.06620409, -0.08368555,\n",
       "       -0.01159931,  0.04363187, -0.09248282, -0.08968689,  0.02889439,\n",
       "        0.07058285,  0.08539367,  0.04296573,  0.06332564, -0.06263201,\n",
       "       -0.07290211,  0.07959707, -0.05536869,  0.03511267,  0.01149542,\n",
       "        0.03585214, -0.02367531,  0.00398153, -0.03376512, -0.02255999,\n",
       "       -0.08878546, -0.06528433,  0.06979755,  0.02013379, -0.04731395,\n",
       "       -0.03187978,  0.04996016, -0.07074174, -0.04632391,  0.09480818,\n",
       "        0.08507588, -0.07928539,  0.01744175, -0.04505581,  0.00304956,\n",
       "        0.06021192,  0.09704798,  0.03978173,  0.08236245,  0.06301091,\n",
       "       -0.00463239,  0.08961355,  0.0507913 ,  0.09494875, -0.03415013,\n",
       "        0.09505264,  0.08668927, -0.02858576, -0.08850434,  0.09677603,\n",
       "        0.01796121, -0.04162735, -0.01437386, -0.01473137, -0.07716782,\n",
       "       -0.0286591 , -0.00888588, -0.09866443, -0.07040868, -0.02410005,\n",
       "       -0.01884735,  0.03584603,  0.0163356 , -0.01230517,  0.05899882,\n",
       "        0.02896467,  0.01096984,  0.07243459, -0.0225386 , -0.02856743,\n",
       "       -0.00828086, -0.05462005, -0.06007442,  0.00405487,  0.08687261,\n",
       "       -0.02737572, -0.00041557, -0.08281164,  0.07427104, -0.03044361,\n",
       "        0.05943883, -0.0482337 , -0.01792454,  0.00188535,  0.07255376,\n",
       "       -0.00172645,  0.08876713, -0.01487193,  0.0420582 , -0.00274093,\n",
       "       -0.0781334 ,  0.08512171,  0.02114522, -0.06066416,  0.06023942,\n",
       "       -0.08300108, -0.0871843 ,  0.06543711, -0.06872195, -0.05301888,\n",
       "        0.07064702,  0.06579156,  0.01371994,  0.09058525,  0.09725577,\n",
       "        0.08120435,  0.03534184, -0.08712012,  0.04583501, -0.09796774,\n",
       "       -0.02575927,  0.0302786 ,  0.01964183, -0.03053528,  0.05883382,\n",
       "       -0.09227809, -0.02825881, -0.02626957, -0.03316621,  0.0614953 ])"
      ]
     },
     "execution_count": 15,
     "metadata": {},
     "output_type": "execute_result"
    }
   ],
   "source": [
    "model.vectors[0] #this is another way to get the vector of a word if we know in which position in model.vocab the word is"
   ]
  },
  {
   "cell_type": "code",
   "execution_count": 16,
   "metadata": {},
   "outputs": [],
   "source": [
    "## Next you have some necessary steps part of the transformation of 300dim to 2D in order to plot\n",
    "pca = PCA(n_components=2)"
   ]
  },
  {
   "cell_type": "code",
   "execution_count": 17,
   "metadata": {},
   "outputs": [],
   "source": [
    "# you can think of a group of words that make sense to be together/far away\n",
    "toplot_words=['universidad','fincas', 'escuelas', \n",
    "            'harina','bacteria',\n",
    "            'sistema','eficiencia','estabilidad','evaluacion' \n",
    "           ]\n",
    "\n",
    "toplot_vecs=[model[w] for w in toplot_words] #getting the vectors for the specific words in toplot_words\n",
    "result = pca.fit_transform(toplot_vecs) #call to pca for transformation"
   ]
  },
  {
   "cell_type": "code",
   "execution_count": 18,
   "metadata": {},
   "outputs": [
    {
     "data": {
      "image/png": "[encoded data removed]",
      "text/plain": [
       "<Figure size 432x288 with 1 Axes>"
      ]
     },
     "metadata": {
      "needs_background": "light"
     },
     "output_type": "display_data"
    }
   ],
   "source": [
    "# finally plotting...\n",
    "pyplot.scatter(result[:, 0], result[:, 1])\n",
    "for i, word in enumerate(toplot_words):\n",
    "    pyplot.annotate(word, xy=(result[i, 0], result[i, 1]))\n",
    "pyplot.show()"
   ]
  }
 ],
 "metadata": {
  "kernelspec": {
   "display_name": "Python 3",
   "language": "python",
   "name": "python3"
  },
  "language_info": {
   "codemirror_mode": {
    "name": "ipython",
    "version": 3
   },
   "file_extension": ".py",
   "mimetype": "text/x-python",
   "name": "python",
   "nbconvert_exporter": "python",
   "pygments_lexer": "ipython3",
   "version": "3.7.3"
  }
 },
 "nbformat": 4,
 "nbformat_minor": 1
}
