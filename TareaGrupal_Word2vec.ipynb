{
 "cells": [
  {
   "cell_type": "markdown",
   "metadata": {},
   "source": [
    "# DEEP LEARNING\n",
    "\n",
    "## Objetivo:\n",
    "\n",
    "Aplique los temas vistos en los seminarios de Deep Learning en sus proyectos de investigación y familiarícese con librerías como word2vec y keras.\n",
    "\n",
    "## Trabajo Grupal\n",
    "### Integrantes\n",
    "* Carlos Alfredo Silva Villafuerte"
   ]
  },
  {
   "cell_type": "markdown",
   "metadata": {},
   "source": [
    "* pip install Cython\n",
    "* pip install word2vec\n",
    "* pip\tinstall\tunidecode\t\n",
    "* pip\tinstall\tnltk\t\n",
    "* pip\tinstall\tstop_words\t\n",
    "* pip\tinstall\tsklearn\t\n",
    "* pip\tinstall\tscipy\t\n",
    "* pip\tinstall\tmatplotlib\t\n"
   ]
  },
  {
   "cell_type": "code",
   "execution_count": 1,
   "metadata": {},
   "outputs": [
    {
     "name": "stderr",
     "output_type": "stream",
     "text": [
      "[nltk_data] Downloading package stopwords to\n",
      "[nltk_data]     C:\\Users\\SPEEDMIND\\AppData\\Roaming\\nltk_data...\n",
      "[nltk_data]   Package stopwords is already up-to-date!\n"
     ]
    },
    {
     "data": {
      "text/plain": [
       "True"
      ]
     },
     "execution_count": 1,
     "metadata": {},
     "output_type": "execute_result"
    }
   ],
   "source": [
    "import numpy as np\n",
    "import pandas as pd\n",
    "from datetime import datetime\n",
    "from numpy import genfromtxt\n",
    "\n",
    "from unidecode import unidecode\n",
    "from nltk.tokenize import TweetTokenizer \n",
    "from stop_words import get_stop_words\n",
    "import nltk\n",
    "from string import punctuation \n",
    "from nltk.corpus import stopwords\n",
    "nltk.download('stopwords')"
   ]
  },
  {
   "cell_type": "code",
   "execution_count": 20,
   "metadata": {},
   "outputs": [],
   "source": [
    "file_datapath = \"Publicaciones.csv\"\n",
    "file_datapathTxt = \"Publicaciones.txt\"\n",
    "df = pd.read_csv(file_datapath,encoding='utf-8')\n",
    "df['publicacion'].to_csv(file_datapathTxt, header=True, index=False, sep='\\t', mode='a')"
   ]
  },
  {
   "cell_type": "code",
   "execution_count": 9,
   "metadata": {},
   "outputs": [
    {
     "ename": "ModuleNotFoundError",
     "evalue": "No module named 'word2vec'",
     "output_type": "error",
     "traceback": [
      "\u001b[1;31m---------------------------------------------------------------------------\u001b[0m",
      "\u001b[1;31mModuleNotFoundError\u001b[0m                       Traceback (most recent call last)",
      "\u001b[1;32m<ipython-input-9-be30840db06c>\u001b[0m in \u001b[0;36m<module>\u001b[1;34m\u001b[0m\n\u001b[1;32m----> 1\u001b[1;33m \u001b[1;32mimport\u001b[0m \u001b[0mword2vec\u001b[0m\u001b[1;33m\u001b[0m\u001b[1;33m\u001b[0m\u001b[0m\n\u001b[0m\u001b[0;32m      2\u001b[0m \u001b[0mword2vec\u001b[0m\u001b[1;33m.\u001b[0m\u001b[0mword2vec\u001b[0m\u001b[1;33m(\u001b[0m\u001b[1;34m'tweetsNOStemmed_corpusReady_word2vec.txt'\u001b[0m\u001b[1;33m,\u001b[0m \u001b[1;34m'my_model.bin'\u001b[0m\u001b[1;33m,\u001b[0m \u001b[0msize\u001b[0m\u001b[1;33m=\u001b[0m\u001b[1;36m300\u001b[0m\u001b[1;33m,\u001b[0m \u001b[0mwindow\u001b[0m\u001b[1;33m=\u001b[0m \u001b[1;36m5\u001b[0m\u001b[1;33m,\u001b[0m \u001b[0mverbose\u001b[0m\u001b[1;33m=\u001b[0m\u001b[1;32mTrue\u001b[0m\u001b[1;33m)\u001b[0m\u001b[1;33m\u001b[0m\u001b[1;33m\u001b[0m\u001b[0m\n",
      "\u001b[1;31mModuleNotFoundError\u001b[0m: No module named 'word2vec'"
     ]
    }
   ],
   "source": [
    "import word2vec \n",
    "word2vec.word2vec(file_datapathTxt, 'my_model.bin', size=300, window= 5, verbose=True)\n",
    "print(model.vectors.shape)"
   ]
  },
  {
   "cell_type": "code",
   "execution_count": null,
   "metadata": {},
   "outputs": [],
   "source": [
    "# \n",
    "for t in sample:\n",
    "    similarities=[] #save the 5 calculations of similarity(tweet,cluster)\n",
    "    words_tweet=t[5].split() #take the preprocessed tweet words and save them in a list\n",
    "    words_vecs=np.array([]).reshape(0,300) #creates an array empty to then acumulate the word vectors with concatenate\n",
    "    num_words=0 #controlls the number of tweet's words that actually were in the model vocabulary (otherwise the word has no vector representation)\n",
    "    \n",
    "    for w in words_tweet:\n",
    "        if w in model.vocab:  #model.vocab contains the list of words in the vocabulary model:\n",
    "            num_words+=1\n",
    "            #to save in a data structure the vectors of the words to later find the mean:\n",
    "            words_vecs=np.concatenate((words_vecs,model[w].reshape(1,300)))#model[w].reshape(1,300) puts array([[1,2,....300]]) double bracket format\n",
    "        \n",
    "    if num_words is not 0: #if it is 0 it means that the tweet has no words in the model, then cannot be represented as vector\n",
    "        tweet_vec=(np.mean(words_vecs, axis=0)).tolist() #average the vectors of the words in tweet\n",
    "        #Calculate the similatity of the tweet (vector) to the 5 centroids\n",
    "        for cent in centroids:\n",
    "            simC=float(\"{0:.3f}\".format(1 - spatial.distance.cosine(tweet_vec,cent)))\n",
    "            similarities.append(simC)\n",
    "    else:\n",
    "        print('Error with tweet, it cannot be represented as vector')\n",
    "        continue\n",
    "            \n",
    "    print('Tweet: '+t[4])\n",
    "    for s in range(len(similarities)):\n",
    "        print('Similarity to cluster '+str(s)+' = '+str(similarities[s]))"
   ]
  }
 ],
 "metadata": {
  "kernelspec": {
   "display_name": "Python 3",
   "language": "python",
   "name": "python3"
  },
  "language_info": {
   "codemirror_mode": {
    "name": "ipython",
    "version": 3
   },
   "file_extension": ".py",
   "mimetype": "text/x-python",
   "name": "python",
   "nbconvert_exporter": "python",
   "pygments_lexer": "ipython3",
   "version": "3.7.4"
  }
 },
 "nbformat": 4,
 "nbformat_minor": 2
}
